{
 "cells": [
  {
   "cell_type": "markdown",
   "metadata": {},
   "source": [
    "# Las 6 ranas\n",
    "## Descripción\n",
    "3 ranas cafes desean pasar a las piedras que hay en el lado derecho, y 3 ranas verdes a las piedras del lado izquierdo, pero solo hay una piedra vacía entre ellas\n",
    "\n",
    "## Reglas:\n",
    "- Las ranas cafés deben terminar del lado derecho y las verdes del lado izquierdo.\n",
    "- Puedes saltar sobre una rana, solo si dentras de está ahí una roca vacía.\n",
    "-  Las ranas pueden saltar a una roca vacia que tengan enfrente.\n",
    "- Las ranas no pueden retroceder.\n",
    "- No pueden saltar sobre 2 ranas.\n",
    "\n",
    "## Secuencia de percepción\n",
    "- [ C ] [ C ] [ C ] [ - ] [ V ] [ V ] [ V ]\n",
    "- [ C ] [ C ] [ C ] [ V ] [ - ] [ V ] [ V ]\n",
    "- [ C ] [ C ] [ - ] [ V ] [ C ] [ V ] [ V ]\n",
    "- [ C ] [ - ] [ C ] [ V ] [ C ] [ V ] [ V ]\n",
    "- [ C ] [ V ] [ C ] [ - ] [ C ] [ V ] [ V ]\n",
    "- [ C ] [ V ] [ C ] [ V ] [ C ] [ - ] [ V ]\n",
    "- [ C ] [ V ] [ C ] [ V ] [ C ] [ V ] [ - ]\n",
    "- [ C ] [ V ] [ C ] [ V ] [ - ] [ V ] [ C ]\n",
    "- [ C ] [ V ] [ - ] [ V ] [ C ] [ V ] [ C ]\n",
    "- [ - ] [ V ] [ C ] [ V ] [ C ] [ V ] [ C ]\n",
    "- [ V ] [ - ] [ C ] [ V ] [ C ] [ V ] [ C ]\n",
    "- [ V ] [ V ] [ C ] [ - ] [ C ] [ V ] [ C ]\n",
    "- [ V ] [ V ] [ C ] [ V ] [ C ] [ - ] [ C ]\n",
    "- [ V ] [ V ] [ C ] [ V ] [ - ] [ C ] [ C ]\n",
    "- [ V ] [ V ] [ - ] [ V ] [ C ] [ C ] [ C ]\n",
    "- [ V ] [ V ] [ V ] [ - ] [ C ] [ C ] [ C ]\n",
    "\n",
    "\n",
    "# Monjes y canibales\n",
    "## Descripción\n",
    "3 misioneros y 3 canibales deben pasar de una isla a otra con ayuda de un barco teniendo el priblema de que si hay más caníbales que monjes los caníbales se los cometran.\n",
    "## Reglas\n",
    "- No puede haber más canibales que misioneros.\n",
    "- Solo pueden ir 2 personas en el barco en cada viaje.\n",
    "\n",
    "## Secuencia de percepción\n",
    "\n",
    "A es el lado izquierdo del río, B es el barco y C es el lado derecho del río\n",
    "\n",
    "- A [ 3 misioneros, 3 canibales ], B [ ], C[ ].\n",
    "- A [ 2 misioneros, 2 canibal ], B [ 1 misionero, 1 canibal ], C [ ].\n",
    "- A [ 2 misioneros, 2, canibales], B [ 1 misionero ], C [ 1 canibal].\n",
    "- A [ 3 misioneros ], B [ 2 canibales ], C [ 1 canibal ].\n",
    "- A [ 3 misioneros ], B [ 1 canibal ], C [2 canibales ].\n",
    "- A [ 1 misioneros, 1 canibal ], B [ 2 minioneros ], C [ 2 canibales ].\n",
    "- A [ 1 misionero, 1 canibal ], B [ 1 misionero, 1 canibal ], C [ 1 misionero, 1 canibal ].\n",
    "- A [ 2 canibales ], B [ 2 misioneros ], C [ 1 misionero, 1 canibal ].\n",
    "- A [ 2 canibales ], B [ 1 canibal ], C [ 3 misioneros ].\n",
    "- A [1 canibal ], B [ 2 canibales ], C [ 3 misioneros ].\n",
    "- A [ 1 canibal ], B [ 1 misionero ], C [ 2 misioneros,2 canibales ].\n",
    "- A [ ], B [ 1 misionero, 1 canibal ], C [ 2 misioneros,2 canibales ].\n",
    "- A [ ], B [ ], C [3 misioneros, 3 canibales]."
   ]
  }
 ],
 "metadata": {
  "kernelspec": {
   "display_name": "Python 3 (ipykernel)",
   "language": "python",
   "name": "python3"
  },
  "language_info": {
   "codemirror_mode": {
    "name": "ipython",
    "version": 3
   },
   "file_extension": ".py",
   "mimetype": "text/x-python",
   "name": "python",
   "nbconvert_exporter": "python",
   "pygments_lexer": "ipython3",
   "version": "3.10.6"
  }
 },
 "nbformat": 4,
 "nbformat_minor": 5
}
