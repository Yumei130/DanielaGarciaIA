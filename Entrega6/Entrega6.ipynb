{
 "cells": [
  {
   "cell_type": "markdown",
   "id": "27925107",
   "metadata": {},
   "source": [
    "# El problema de Flavio Josefo\n",
    "\n",
    "Segun la historia sabemos lo siguiente:\n",
    "-Hay 41 individuos en el círculo (contando a Josephus)\n",
    "-El primero en tener la daga debe de matar al segundo, y se la pasa al tercero que mata al cuarto, y asi sucesivamente dando vueltas hasta que solo queden 2 personas.\n",
    "-El último sobreviviente es aquel que termina con la daga al último (se pretende que sea Josephus)\n",
    "\n",
    "El problema nos indica que tenemos que saber la posición en la que debe estar Josephus para sobrevivir, dandonos la siguiente lógica:\n",
    "~~~\n",
    "int p = 41;     //refiriendonos a cuantos participantes hay en el círculo\n",
    "int s = 2;      //refiriendonos a los saltos (uno si-uno no-uno si-uno no)\n",
    "~~~\n",
    "Después de ello se realiza este método para ir haciendo el calculo de quienes van quedando en el circulo \n",
    "~~~\n",
    "static int lugar(int n, int m) {\n",
    "        int resultado = 0;\n",
    "        for (int i = 2; i <= n; i++) {\n",
    "            resultado = (resultado + m) % i;    //El % es el valor restante de la división entre (resultado + m) entre i\n",
    "        }\n",
    "        return resultado + 1; \n",
    "    } \n",
    "~~~\n",
    "\n",
    "donde:\n",
    "- resultado es la posición actual de la daga en el círculo\n",
    "- m es el número de saltos que se deben dar para encontrar a la siguiente persona a eliminar\n",
    "- i es el número de personas que aun siguen en el círculo.\n",
    "\n",
    "Y explicando un poco la fórmula de resultado = (resultado + m) % i tenemos que se suma el valor actual de resultad con m, luego se calcula el resto de esa suma dividida por i.\n",
    "\n",
    "Y en este problema tomando en cuenta las 41 personas Flavio Josefo debería encontrarse en la posición 19.\n",
    "\n"
   ]
  }
 ],
 "metadata": {
  "kernelspec": {
   "display_name": "Python 3 (ipykernel)",
   "language": "python",
   "name": "python3"
  },
  "language_info": {
   "codemirror_mode": {
    "name": "ipython",
    "version": 3
   },
   "file_extension": ".py",
   "mimetype": "text/x-python",
   "name": "python",
   "nbconvert_exporter": "python",
   "pygments_lexer": "ipython3",
   "version": "3.10.6"
  }
 },
 "nbformat": 4,
 "nbformat_minor": 5
}
