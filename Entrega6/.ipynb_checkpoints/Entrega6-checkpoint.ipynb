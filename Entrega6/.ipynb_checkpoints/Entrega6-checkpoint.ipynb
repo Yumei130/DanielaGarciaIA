{
 "cells": [
  {
   "cell_type": "code",
   "execution_count": null,
   "id": "e9c1fe19-ac2d-418b-98e3-7bd1d049f49d",
   "metadata": {},
   "outputs": [],
   "source": []
  }
 ],
 "metadata": {
  "kernelspec": {
   "display_name": "Python 3 (ipykernel)",
   "language": "python",
   "name": "python3"
  },
  "language_info": {
   "codemirror_mode": {
    "name": "ipython",
    "version": 3
   },
   "file_extension": ".py",
   "mimetype": "text/x-python",
   "name": "python",
   "nbconvert_exporter": "python",
   "pygments_lexer": "ipython3",
   "version": "3.10.6"
  }
 },
 "nbformat": 4,
 "nbformat_minor": 5
}
