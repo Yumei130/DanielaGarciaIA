{
 "cells": [
  {
   "cell_type": "markdown",
   "id": "45e30809",
   "metadata": {},
   "source": [
    "# El problema de los 8 alfiles\n",
    "\n",
    "Como ingenieros en sistemas siempre nos encontramos con problemas que requieren lógica para solucionarlos, y por eso mismo es que cada uno de esos problemas pueden tener diferentes soluciones y procedimientos para resolverlos.\n",
    "\n",
    "##### Problema\n",
    "- Tablero de 5x4 \n",
    "- En la parte superior están los 4 alfiles negros\n",
    "- En la parte inferior están los 4 alfiles blancos\n",
    "- Los alfiles deben intercambiar posiciones (los blancos terminarán en el lugar de los negros y vicecersa)\n",
    "- En ningun movimiento un alfil puede atacar a otro\n",
    "- Los movimientos deben ser alternados (blanco-negro-blanco-negro....) \n",
    "\n",
    "Podemos ver el tablero numerando cada una de las casillas de esta forma:\n",
    "| | | | |\n",
    "|--|--|--|--|\n",
    "|1|2|3|4|\n",
    "|5|6|7|8|\n",
    "|9|10|11|12|\n",
    "|13|14|15|16|\n",
    "|17|18|19|20|\n",
    "\n",
    "Desde aqui debemos tomar en cuenta que los alfiles negros se encuentran en las casillas 1-4 y los alfiles blancos se encuentran en las casillas 19-20. Sabiendo que cada uno de los alfiles se puede mover de la forma común como en un juego de ajedrez (osea en diagonal) y que las piezas blancas son las que inician, nuestro primer movimiento será mover el alfil que se encuentra en la casilla 18 hacia la casilla 15, avanzando, dejando un espacio libre y sin atacar a ninguno de los alfiles negros. Después de esto tenemos que tener cuidado con cada movimiento que realizamos, pues podríamos llegar a atacar un alfil contra otro sin querer. Teniendo esto en mente el siguiente movimiento podría ser mover el alfil de la casilla 3 a la casilla 6, dejando asi un lugar vacío en el lado de los alfiles negros. \n",
    "La secuencia a seguir podría llegar a ser la siguiente, tomando en cuenta que el primer número de casilla se refiere a la casilla en la que se encuentra el alfil y el segundo se refiere a la casilla a la que se movera:\n",
    "\n",
    "|Movimiento|Alfiles Negros|Alfiles Blancos|\n",
    "|:--------:|:------------:|:-------------:|\n",
    "|1|18-15|3-6|\n",
    "|2|17-8|4-13|\n",
    "|3|19-14|2-7|\n",
    "|4|15-5|6-16|\n",
    "|5|8-3|13-18|\n",
    "|6|14-9|7-12|\n",
    "|7|5-10|16-11|\n",
    "|8|9-19|12-2|\n",
    "|9|10-4|11-7|\n",
    "|10|20-10|1-11|\n",
    "|11|3-9|18-12|\n",
    "|12|10-13|11-8|\n",
    "|13|19-16|2-5|\n",
    "|14|16-1|5-20|\n",
    "|15|9-6|12-15|\n",
    "|16|13-7|8-14|\n",
    "|17|6-3|15-18|\n",
    "|18|7-2|14-19|\n",
    "\n",
    "Dada esta lógica fueron necesarios 18 movimientos pares de movimientos para lograr cambiar los alfiles de posición como se requiere en el problema.\n",
    "\n",
    "Dada la restricción de que ninguno de los alfiiles puede llegar a atacar a otro se complicaba un poco el problema, dado que tenemos que cuidar que en nigun momento un alfil negro quede en la misma linea que uno blanco, pase lo que pase.\n",
    "Es así que el problema se puede resolver en base a prueba y error, como usualmente llegamos a resolver problemas de este tipo, pero es muy tardado.\n",
    "\n",
    "\n"
   ]
  }
 ],
 "metadata": {
  "kernelspec": {
   "display_name": "Python 3 (ipykernel)",
   "language": "python",
   "name": "python3"
  },
  "language_info": {
   "codemirror_mode": {
    "name": "ipython",
    "version": 3
   },
   "file_extension": ".py",
   "mimetype": "text/x-python",
   "name": "python",
   "nbconvert_exporter": "python",
   "pygments_lexer": "ipython3",
   "version": "3.10.6"
  }
 },
 "nbformat": 4,
 "nbformat_minor": 5
}
